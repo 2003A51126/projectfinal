{
  "nbformat": 4,
  "nbformat_minor": 0,
  "metadata": {
    "colab": {
      "name": "aiml.ipynb",
      "provenance": []
    },
    "kernelspec": {
      "name": "python3",
      "display_name": "Python 3"
    },
    "language_info": {
      "name": "python"
    }
  },
  "cells": [
    {
      "cell_type": "code",
      "execution_count": null,
      "metadata": {
        "id": "ygA5DEacR32S"
      },
      "outputs": [],
      "source": [
        "import numpy as np\n",
        "import matplotlib.pyplot as plt\n",
        "import math\n",
        "import pandas as pd"
      ]
    },
    {
      "cell_type": "code",
      "source": [
        "#Linear Regression\n",
        "m_values=[]\n",
        "c_values=[]\n",
        "error_rate=[]\n",
        "\n",
        "def LinearReg(m,c):\n",
        "  y_pred=[]\n",
        "  y_y_pred=[]\n",
        "  y_p=[]\n",
        "  m_x=[]\n",
        "  Data=pd.read_excel(\"/content/drive/MyDrive/shiva-1.xlsx\")\n",
        "  x=np.array(Data['distance'])\n",
        "  y=np.array(Data['calories'])\n",
        "  for i in range(0,len(x)):\n",
        "    y_pred.append(m*x[i]+c)\n",
        "    y_p.append((m*x[i]+c)-y[i])\n",
        "    y_y_pred.append((y[i]-y_pred[i])**2)\n",
        "    m_x=y_p[i]*x[i]\n",
        "  sum=np.array(y_y_pred).sum()\n",
        "  error_rate.append(sum/float(len(x)))\n",
        "  m_values.append(m)\n",
        "  c_values.append(c)\n",
        "  N=float(len(x))\n",
        "  c_new=round(c-(0.001)*(1/N)*(np.array(y_p).sum()),3)\n",
        "  m_new=round(m-(0.001)*(1/N)*(np.array(m_x).sum()),3)\n",
        "  return m_new,c_new\n",
        "  \n",
        "\n",
        "m=1\n",
        "c=1\n",
        "m_values.append(1)\n",
        "c_values.append(1)\n",
        "for i in range(0,600):\n",
        "  m,c=LinearReg(m,c)\n",
        "\n",
        "print(\"error rates=\",error_rate)\n",
        "min_error=np.array(error_rate).min()\n",
        "min_m=error_rate.index(min_error)\n",
        "print(\"minimum error obtained at m =\",m_values[min_m])\n",
        "m_best=m_values[min_m]\n",
        "c_best=c_values[min_m]\n",
        "print(\"minimum error obtained at c =\",c_values[min_m])\n",
        "print(\"minimum error = \",min_error)\n",
        "\n",
        "\n",
        "iterate=np.arange(0,600)\n",
        "plt.plot(iterate,error_rate)\n"
      ],
      "metadata": {
        "colab": {
          "base_uri": "https://localhost:8080/",
          "height": 372
        },
        "id": "eNVi_KKaSPLr",
        "outputId": "3760a39f-2be9-4862-b140-52643e2ab0f5"
      },
      "execution_count": 414,
      "outputs": [
        {
          "output_type": "stream",
          "name": "stdout",
          "text": [
            "error rates= [4643.106186946859, 4642.75613460781, 4642.406420268761, 4642.057043929714, 4641.708005590665, 4641.359305251616, 4641.010942912568, 4640.662918573518, 4640.31523223447, 4639.967883895422, 4639.620873556374, 4639.274201217325, 4638.927866878276, 4638.5818705392285, 4638.23621220018, 4637.890891861131, 4637.545909522083, 4637.201265183034, 4636.856958843985, 4636.512990504935, 4636.169360165889, 4635.82606782684, 4635.483113487791, 4635.140497148743, 4634.798218809694, 4634.456278470646, 4634.114676131597, 4633.773411792548, 4633.4324854535, 4633.091897114452, 4632.751646775404, 4632.411734436354, 4632.072160097307, 4631.732923758257, 4631.394025419208, 4631.0554650801605, 4630.7172427411115, 4630.379358402065, 4630.041812063014, 4629.704603723966, 4629.367733384917, 4629.03120104587, 4628.695006706821, 4628.359150367772, 4628.023632028723, 4627.688451689675, 4627.353609350625, 4627.019105011578, 4626.68493867253, 4626.35111033348, 4626.017619994433, 4625.684467655383, 4625.351653316336, 4625.019176977288, 4624.687038638239, 4624.355238299189, 4624.023775960141, 4623.692651621092, 4623.361865282044, 4623.031416942996, 4622.701306603947, 4622.371534264898, 4622.04209992585, 4621.713003586801, 4621.384245247754, 4621.055824908704, 4620.727742569657, 4620.399998230608, 4620.072591891559, 4619.74552355251, 4619.418793213462, 4619.092400874413, 4618.766346535364, 4618.440630196316, 4618.115251857268, 4617.790211518219, 4617.4904742821755, 4617.19102504613, 4616.891863810084, 4616.5929905740395, 4616.294405337995, 4615.99610810195, 4615.698098865905, 4615.4003776298605, 4615.102944393817, 4614.805799157772, 4614.508941921726, 4614.212372685681, 4613.916091449636, 4613.620098213592, 4613.324392977547, 4613.028975741503, 4612.733846505457, 4612.4390052694125, 4612.144452033369, 4611.850186797324, 4611.556209561278, 4611.262520325234, 4610.969119089188, 4610.676005853144, 4610.383180617099, 4610.090643381053, 4609.798394145009, 4609.506432908965, 4609.214759672919, 4608.923374436876, 4608.632277200831, 4608.341467964785, 4608.05094672874, 4607.760713492696, 4607.47076825665, 4607.181111020606, 4606.891741784561, 4606.602660548517, 4606.313867312471, 4606.025362076427, 4605.737144840382, 4605.449215604337, 4605.161574368292, 4604.874221132249, 4604.587155896204, 4604.300378660159, 4604.0138894241145, 4603.72768818807, 4603.441774952024, 4603.156149715978, 4602.870812479935, 4602.58576324389, 4602.3010020078445, 4602.0165287718, 4601.732343535755, 4601.44844629971, 4601.164837063667, 4600.881515827622, 4600.598482591576, 4600.315737355531, 4600.033280119486, 4599.7511108834415, 4599.469229647397, 4599.187636411351, 4598.906331175307, 4598.625313939263, 4598.344584703217, 4598.064143467173, 4597.783990231129, 4597.504124995084, 4597.224547759039, 4596.945258522995, 4596.666257286949, 4596.387544050905, 4596.109118814859, 4595.830981578814, 4595.55313234277, 4595.275571106725, 4594.998297870681, 4594.721312634636, 4594.44461539859, 4594.168206162545, 4593.8920849265005, 4593.63922679346, 4593.386610660419, 4593.134236527379, 4592.882104394336, 4592.630214261295, 4592.3785661282545, 4592.127159995213, 4591.875995862172, 4591.625073729131, 4591.374393596091, 4591.123955463049, 4590.8737593300075, 4590.623805196967, 4590.374093063926, 4590.124622930885, 4589.875394797845, 4589.626408664803, 4589.377664531762, 4589.129162398721, 4588.88090226568, 4588.632884132639, 4588.385107999598, 4588.1375738665565, 4587.890281733514, 4587.643231600475, 4587.396423467433, 4587.149857334392, 4586.903533201351, 4586.65745106831, 4586.411610935269, 4586.166012802228, 4585.920656669186, 4585.675542536146, 4585.430670403104, 4585.186040270063, 4584.941652137023, 4584.697506003982, 4584.4536018709405, 4584.209939737899, 4583.966519604859, 4583.723341471817, 4583.480405338776, 4583.237711205736, 4582.995259072693, 4582.753048939652, 4582.511080806611, 4582.269354673571, 4582.02787054053, 4581.786628407489, 4581.545628274448, 4581.304870141406, 4581.064354008366, 4580.824079875325, 4580.5840477422835, 4580.344257609243, 4580.104709476202, 4579.86540334316, 4579.626339210119, 4579.387517077078, 4579.148936944038, 4578.910598810996, 4578.672502677956, 4578.434648544915, 4578.197036411872, 4577.959666278832, 4577.722538145791, 4577.485652012749, 4577.249007879708, 4577.012605746669, 4576.7764456136265, 4576.540527480585, 4576.304851347545, 4576.069417214502, 4575.834225081462, 4575.599274948421, 4575.36456681538, 4575.130100682339, 4574.895876549299, 4574.661894416257, 4574.428154283215, 4574.194656150175, 4573.961400017133, 4573.728385884093, 4573.495613751052, 4573.263083618011, 4573.03079548497, 4572.798749351929, 4572.566945218888, 4572.335383085848, 4572.104062952804, 4571.872984819763, 4571.663123789727, 4571.453462759689, 4571.244001729651, 4571.034740699615, 4570.825679669578, 4570.61681863954, 4570.408157609503, 4570.199696579465, 4569.9914355494275, 4569.783374519391, 4569.575513489353, 4569.367852459315, 4569.160391429278, 4568.953130399241, 4568.746069369204, 4568.539208339167, 4568.33254730913, 4568.126086279092, 4567.919825249054, 4567.713764219016, 4567.50790318898, 4567.302242158943, 4567.096781128905, 4566.891520098869, 4566.68645906883, 4566.481598038794, 4566.276937008756, 4566.072475978718, 4565.868214948682, 4565.664153918644, 4565.460292888607, 4565.25663185857, 4565.0531708285325, 4564.849909798494, 4564.646848768457, 4564.443987738421, 4564.241326708382, 4564.038865678346, 4563.836604648308, 4563.63454361827, 4563.432682588233, 4563.231021558196, 4563.029560528158, 4562.828299498121, 4562.627238468084, 4562.426377438048, 4562.225716408009, 4562.025255377973, 4561.824994347935, 4561.624933317898, 4561.42507228786, 4561.225411257824, 4561.025950227784, 4560.826689197748, 4560.627628167711, 4560.428767137673, 4560.230106107636, 4560.031645077599, 4559.83338404756, 4559.635323017525, 4559.437461987486, 4559.239800957449, 4559.042339927411, 4558.845078897376, 4558.648017867337, 4558.4511568373, 4558.254495807263, 4558.058034777226, 4557.861773747188, 4557.665712717151, 4557.469851687115, 4557.274190657075, 4557.078729627039, 4556.883468597002, 4556.688407566965, 4556.493546536926, 4556.29888550689, 4556.104424476852, 4555.910163446815, 4555.716102416777, 4555.5222413867405, 4555.328580356703, 4555.135119326666, 4554.941858296628, 4554.74879726659, 4554.555936236554, 4554.363275206516, 4554.170814176478, 4553.978553146442, 4553.786492116404, 4553.5946310863665, 4553.40297005633, 4553.211509026292, 4553.0202479962545, 4552.829186966218, 4552.63832593618, 4552.447664906142, 4552.257203876105, 4552.066942846068, 4551.8768818160315, 4551.705997888997, 4551.535275961963, 4551.36471603493, 4551.194318107897, 4551.024082180863, 4550.854008253829, 4550.684096326796, 4550.514346399762, 4550.344758472727, 4550.175332545696, 4550.006068618662, 4549.836966691627, 4549.668026764594, 4549.499248837559, 4549.330632910526, 4549.162178983493, 4548.993887056459, 4548.825757129426, 4548.657789202392, 4548.489983275359, 4548.322339348326, 4548.154857421292, 4547.987537494258, 4547.820379567225, 4547.6533836401895, 4547.486549713158, 4547.3198777861235, 4547.15336785909, 4546.987019932057, 4546.820834005023, 4546.654810077989, 4546.488948150955, 4546.323248223921, 4546.157710296889, 4545.992334369855, 4545.827120442822, 4545.662068515789, 4545.497178588754, 4545.33245066172, 4545.1678847346875, 4545.0034808076525, 4544.83923888062, 4544.675158953586, 4544.511241026554, 4544.347485099519, 4544.183891172485, 4544.020459245452, 4543.857189318418, 4543.694081391384, 4543.531135464351, 4543.368351537317, 4543.205729610285, 4543.04326968325, 4542.880971756216, 4542.718835829182, 4542.55686190215, 4542.3950499751145, 4542.233400048082, 4542.071912121048, 4541.910586194014, 4541.749422266982, 4541.588420339947, 4541.427580412915, 4541.266902485881, 4541.106386558848, 4540.946032631813, 4540.78584070478, 4540.625810777746, 4540.465942850713, 4540.306236923679, 4540.1466929966455, 4539.987311069611, 4539.828091142578, 4539.669033215545, 4539.510137288512, 4539.351403361477, 4539.192831434444, 4539.034421507409, 4538.876173580377, 4538.718087653342, 4538.560163726309, 4538.402401799276, 4538.2448018722425, 4538.0873639452075, 4537.930088018175, 4537.772974091141, 4537.616022164108, 4537.459232237074, 4537.302604310041, 4537.146138383007, 4536.989834455974, 4536.8336925289395, 4536.677712601906, 4536.521894674872, 4536.366238747839, 4536.210744820805, 4536.055412893772, 4535.900242966737, 4535.745235039705, 4535.590389112672, 4535.435705185639, 4535.281183258603, 4535.12682333157, 4534.972625404537, 4534.818589477502, 4534.66471555047, 4534.5110036234355, 4534.3574536964015, 4534.204065769368, 4534.050839842335, 4533.897775915301, 4533.761855091271, 4533.626062267243, 4533.490397443212, 4533.354860619183, 4533.219451795151, 4533.084170971122, 4532.949018147093, 4532.813993323063, 4532.679096499032, 4532.544327675003, 4532.409686850973, 4532.275174026942, 4532.140789202914, 4532.006532378883, 4531.872403554853, 4531.738402730824, 4531.604529906794, 4531.470785082764, 4531.337168258734, 4531.203679434703, 4531.070318610674, 4530.937085786645, 4530.803980962615, 4530.671004138584, 4530.538155314555, 4530.405434490524, 4530.272841666495, 4530.140376842466, 4530.008040018435, 4529.875831194406, 4529.743750370376, 4529.611797546346, 4529.479972722314, 4529.348275898286, 4529.216707074256, 4529.085266250227, 4528.953953426197, 4528.822768602166, 4528.691711778138, 4528.560782954107, 4528.4299821300765, 4528.299309306047, 4528.168764482017, 4528.038347657987, 4527.9080588339575, 4527.777898009927, 4527.647865185898, 4527.517960361868, 4527.388183537838, 4527.258534713808, 4527.129013889779, 4526.999621065749, 4526.870356241719, 4526.741219417689, 4526.612210593658, 4526.483329769629, 4526.3545769456, 4526.225952121569, 4526.097455297539, 4525.96908647351, 4525.840845649479, 4525.712732825449, 4525.58474800142, 4525.45689117739, 4525.3291623533605, 4525.20156152933, 4525.0740887053, 4524.946743881272, 4524.819527057241, 4524.692438233211, 4524.565477409182, 4524.438644585151, 4524.311939761121, 4524.185362937092, 4524.05891411306, 4523.9325932890315, 4523.806400465002, 4523.680335640972, 4523.554398816942, 4523.428589992912, 4523.302909168882, 4523.1773563448505, 4523.051931520822, 4522.926634696793, 4522.801465872763, 4522.676425048734, 4522.5515122247025, 4522.4267274006725, 4522.302070576644, 4522.177541752614, 4522.053140928583, 4521.928868104555, 4521.804723280525, 4521.680706456494, 4521.556817632466, 4521.433056808433, 4521.309423984404, 4521.185919160374, 4521.062542336345, 4520.939293512316, 4520.816172688285, 4520.693179864255, 4520.570315040226, 4520.447578216196, 4520.324969392165, 4520.202488568136, 4520.080135744106, 4519.957910920076, 4519.835814096047, 4519.7138452720155, 4519.592004447986, 4519.470291623956, 4519.348706799928, 4519.2272499758965, 4519.105921151867, 4518.984720327838, 4518.863647503807, 4518.742702679777, 4518.621885855747, 4518.501197031717, 4518.3806362076875, 4518.260203383657, 4518.139898559627, 4518.019721735598, 4517.899672911568, 4517.794735190542, 4517.689895469516, 4517.5851537484905, 4517.480510027463, 4517.375964306439, 4517.271516585411, 4517.167166864385, 4517.0629151433595, 4516.958761422333, 4516.8547057013075, 4516.750747980281, 4516.646888259254, 4516.543126538228, 4516.439462817202]\n",
            "minimum error obtained at m = 1.0\n",
            "minimum error obtained at c = -5.062\n",
            "minimum error =  4516.439462817202\n"
          ]
        },
        {
          "output_type": "execute_result",
          "data": {
            "text/plain": [
              "[<matplotlib.lines.Line2D at 0x7fb35dcefb90>]"
            ]
          },
          "metadata": {},
          "execution_count": 414
        },
        {
          "output_type": "display_data",
          "data": {
            "text/plain": [
              "<Figure size 432x288 with 1 Axes>"
            ],
            "image/png": "[encoded data removed]"
          },
          "metadata": {
            "needs_background": "light"
          }
        }
      ]
    },
    {
      "cell_type": "code",
      "source": [
        "Data=pd.read_excel(\"/content/drive/MyDrive/shiva-1.xlsx\")\n",
        "x=Data.iloc[:,0:5]\n",
        "y=Data.iloc[:,5:6]"
      ],
      "metadata": {
        "id": "jZT9k8bjXie-"
      },
      "execution_count": 425,
      "outputs": []
    },
    {
      "cell_type": "code",
      "source": [
        "from sklearn.model_selection import train_test_split\n",
        "x_train,x_test,y_train,y_test=train_test_split(x,y,test_size=0.2,random_state=50)"
      ],
      "metadata": {
        "id": "lzPKQ-aGeNgq"
      },
      "execution_count": 426,
      "outputs": []
    },
    {
      "cell_type": "code",
      "source": [
        "print(x_train)"
      ],
      "metadata": {
        "colab": {
          "base_uri": "https://localhost:8080/"
        },
        "id": "uTE-RzxXeVyY",
        "outputId": "252852c0-dc2c-4b47-c3a6-9aa5a91d8aed"
      },
      "execution_count": 427,
      "outputs": [
        {
          "output_type": "stream",
          "name": "stdout",
          "text": [
            "    age  weight      steps  hear_rate   calories\n",
            "46   28    53.0   6.210526  76.541694  58.500000\n",
            "9    25    65.4  14.444444  58.000000  17.968200\n",
            "1    25    65.4  11.475325  78.453390   3.287625\n",
            "60   29    64.0   8.277512  66.418684  39.000000\n",
            "71   28    55.0   3.961722  46.346117  79.000000\n",
            "..  ...     ...        ...        ...        ...\n",
            "70   29    55.0   4.354067  48.170896  75.000000\n",
            "4    53    65.4  15.000000  59.000000  17.962333\n",
            "33   55    79.3   7.852632  76.848369   4.000000\n",
            "11   22    65.4  14.222222  59.500000  17.973800\n",
            "48   26    54.0   5.957895  76.494513  47.000000\n",
            "\n",
            "[62 rows x 5 columns]\n"
          ]
        }
      ]
    },
    {
      "cell_type": "code",
      "source": [
        "print(x_test)"
      ],
      "metadata": {
        "colab": {
          "base_uri": "https://localhost:8080/"
        },
        "id": "aThOnQAdebxu",
        "outputId": "5b21fe26-dacf-4a40-d847-ba678787926d"
      },
      "execution_count": 428,
      "outputs": [
        {
          "output_type": "stream",
          "name": "stdout",
          "text": [
            "    age  weight      steps  hear_rate  calories\n",
            "47   27    56.0   6.084211  76.518104   60.0000\n",
            "17   27    54.0   9.873684  77.225815    2.5000\n",
            "64   29    56.0   6.708134  59.119569   36.0000\n",
            "44   26    54.0   6.463158  76.588875   43.0000\n",
            "16   26    55.0  10.000000  77.249406    2.5000\n",
            "63   29    62.0   7.100478  60.944348    3.5000\n",
            "36   54    79.3   7.473684  76.777598    2.5000\n",
            "8    24    65.0  14.555556  62.370867   17.9654\n",
            "50   25    53.0   5.705263  76.447333    2.5000\n",
            "18   28    53.0   9.747368  77.202225    2.5000\n",
            "56   43    65.0   4.947368  76.305790   66.5000\n",
            "53   23    64.0   5.326316  76.376561    2.5000\n",
            "45    2    54.0   6.336842  76.565285   49.0000\n",
            "23   56    64.0   9.115789  77.084273   63.5000\n",
            "75   23    55.0   2.392344  39.047001   46.0000\n",
            "72   25    55.0   3.569378  44.521338   69.0000\n"
          ]
        }
      ]
    },
    {
      "cell_type": "code",
      "source": [
        "print(y_train)"
      ],
      "metadata": {
        "colab": {
          "base_uri": "https://localhost:8080/"
        },
        "id": "nv8Cp8JRegzU",
        "outputId": "419226e9-912b-4d7f-e3bb-a94c4b07af82"
      },
      "execution_count": 429,
      "outputs": [
        {
          "output_type": "stream",
          "name": "stdout",
          "text": [
            "      distance\n",
            "46   15.733333\n",
            "9     0.010658\n",
            "1     0.008896\n",
            "60   82.588517\n",
            "71  205.246411\n",
            "..         ...\n",
            "70  194.095694\n",
            "4     0.012430\n",
            "33   15.715088\n",
            "11    0.009949\n",
            "48   15.736140\n",
            "\n",
            "[62 rows x 1 columns]\n"
          ]
        }
      ]
    },
    {
      "cell_type": "code",
      "source": [
        "print(y_test)"
      ],
      "metadata": {
        "colab": {
          "base_uri": "https://localhost:8080/"
        },
        "id": "8wlHLWGtej6k",
        "outputId": "8cccaf8e-8a9d-4584-c5f5-ca6c9eb4e56f"
      },
      "execution_count": 420,
      "outputs": [
        {
          "output_type": "stream",
          "name": "stdout",
          "text": [
            "    calories\n",
            "47   60.0000\n",
            "17    2.5000\n",
            "64   36.0000\n",
            "44   43.0000\n",
            "16    2.5000\n",
            "63    3.5000\n",
            "36    2.5000\n",
            "8    17.9654\n",
            "50    2.5000\n",
            "18    2.5000\n",
            "56   66.5000\n",
            "53    2.5000\n",
            "45   49.0000\n",
            "23   63.5000\n",
            "75   46.0000\n",
            "72   69.0000\n"
          ]
        }
      ]
    },
    {
      "cell_type": "code",
      "source": [
        "from sklearn.linear_model import LinearRegression"
      ],
      "metadata": {
        "id": "IrM21eWIelhN"
      },
      "execution_count": 421,
      "outputs": []
    },
    {
      "cell_type": "code",
      "source": [
        "dt=LinearRegression()\n",
        "cc=dt.fit(x_train,y_train)"
      ],
      "metadata": {
        "id": "AYYlBq6ne2ZI"
      },
      "execution_count": 430,
      "outputs": []
    },
    {
      "cell_type": "code",
      "source": [
        "from sklearn.linear_model import LinearRegression\n",
        "regressor = LinearRegression()\n",
        "regressor.fit(x_train,y_train)\n",
        "r2_score = regressor.score(x_test,y_test)\n",
        "print(r2_score*100,'%')"
      ],
      "metadata": {
        "colab": {
          "base_uri": "https://localhost:8080/"
        },
        "id": "Acyhk52VsyWQ",
        "outputId": "7870ffa6-a848-48fe-a374-06715aa09b91"
      },
      "execution_count": 431,
      "outputs": [
        {
          "output_type": "stream",
          "name": "stdout",
          "text": [
            "80.23652269389694 %\n"
          ]
        }
      ]
    },
    {
      "cell_type": "code",
      "source": [
        "from sklearn import svm\n",
        "cc=svm.SVR(kernel='linear')\n",
        "cl=cc.fit(x_train,y_train)\n",
        "yp=cl.predict(x_test)\n",
        "print(yp)"
      ],
      "metadata": {
        "colab": {
          "base_uri": "https://localhost:8080/"
        },
        "id": "CEtmxzRKlWDH",
        "outputId": "10f6f6e9-9394-4d18-86a6-632dca51fcc3"
      },
      "execution_count": 432,
      "outputs": [
        {
          "output_type": "stream",
          "name": "stdout",
          "text": [
            "[ 32.35061058   3.20875923 118.65017746  29.28563069   1.62437388\n",
            " 102.69742759  18.15222552  47.48402146  32.73585089   4.79314459\n",
            "  41.86602942  30.5183896   23.54183199  16.16046837 249.1026362\n",
            " 215.04417124]\n"
          ]
        },
        {
          "output_type": "stream",
          "name": "stderr",
          "text": [
            "/usr/local/lib/python3.7/dist-packages/sklearn/utils/validation.py:993: DataConversionWarning: A column-vector y was passed when a 1d array was expected. Please change the shape of y to (n_samples, ), for example using ravel().\n",
            "  y = column_or_1d(y, warn=True)\n"
          ]
        }
      ]
    },
    {
      "cell_type": "code",
      "source": [
        "from sklearn import svm\n",
        "cc=svm.SVR(kernel='linear')\n",
        "cc.fit(x_train,y_train)\n",
        "r2_score = cc.score(x_test,y_test)\n",
        "print(r2_score*100,'%')"
      ],
      "metadata": {
        "colab": {
          "base_uri": "https://localhost:8080/"
        },
        "id": "zsaKU8zW--F0",
        "outputId": "12a8943c-9469-42d9-945d-995e7e8734e8"
      },
      "execution_count": 433,
      "outputs": [
        {
          "output_type": "stream",
          "name": "stdout",
          "text": [
            "94.94775325603699 %\n"
          ]
        },
        {
          "output_type": "stream",
          "name": "stderr",
          "text": [
            "/usr/local/lib/python3.7/dist-packages/sklearn/utils/validation.py:993: DataConversionWarning: A column-vector y was passed when a 1d array was expected. Please change the shape of y to (n_samples, ), for example using ravel().\n",
            "  y = column_or_1d(y, warn=True)\n"
          ]
        }
      ]
    },
    {
      "cell_type": "code",
      "source": [
        ""
      ],
      "metadata": {
        "id": "WBaISgHQ6aVA"
      },
      "execution_count": null,
      "outputs": []
    },
    {
      "cell_type": "code",
      "source": [
        ""
      ],
      "metadata": {
        "id": "gRMBDomQ6aYO"
      },
      "execution_count": null,
      "outputs": []
    }
  ]
}